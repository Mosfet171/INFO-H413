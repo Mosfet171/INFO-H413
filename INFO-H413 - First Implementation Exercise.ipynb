{
 "cells": [
  {
   "cell_type": "markdown",
   "metadata": {},
   "source": [
    "# Iterative Improvement algorithms for the PFSP"
   ]
  },
  {
   "cell_type": "code",
   "execution_count": null,
   "metadata": {},
   "outputs": [],
   "source": [
    "from pfspfunctions import *\n",
    "import time\n",
    "import numpy as np\n",
    "from scipy.stats import *\n",
    "\n",
    "best_file = open('./instances/bestSolutions.txt','r')\n",
    "best_file.readline()\n",
    "\n",
    "fiftys_best = np.zeros(30)\n",
    "hundreds_best = np.zeros(30)\n",
    "for i in range(30):\n",
    "    hundreds_best[i] = best_file.readline().split(',')[-1]\n",
    "for i in range(30):\n",
    "    fiftys_best[i] = best_file.readline().split(',')[-1]\n",
    "    \n",
    "    \n",
    "which_instances = 100 # OR 50"
   ]
  },
  {
   "cell_type": "markdown",
   "metadata": {},
   "source": [
    "# 1. Fixed neighbourhood"
   ]
  },
  {
   "cell_type": "markdown",
   "metadata": {},
   "source": [
    "Here is a code to answer all the questions of exercise 1.1. The code here is written for the 100 jobs instances, for the 50 just replace 100 by 50 in the above cell (which_instances)."
   ]
  },
  {
   "cell_type": "markdown",
   "metadata": {},
   "source": [
    "## 1.1 With the SRZ as initial solution"
   ]
  },
  {
   "cell_type": "code",
   "execution_count": null,
   "metadata": {},
   "outputs": [],
   "source": [
    "averages_srz = np.array([['FOR SRZ','First','Best'],['Transp',0,0],['Exhang',0,0],['Insert',0,0]])\n",
    "sumz_srz = np.zeros((6,30))\n",
    "for irule in ['srz']:\n",
    "    j = 1\n",
    "    l = 0\n",
    "    for prule in ['first','best']:\n",
    "        i = 1\n",
    "        for nrule in ['transpose','exchange','insert']:\n",
    "            exectimes = []\n",
    "            k = 0\n",
    "            for instance in range(1,31):\n",
    "                if which_instances == 50:\n",
    "                    start = time.time()\n",
    "                    summy = !python pfsp-ii.py ./instances/50_20_{format(instance, '02d')} --{prule} --{nrule} --{irule}\n",
    "                    stop = time.time()\n",
    "                else:\n",
    "                    start = time.time()\n",
    "                    summy = !python pfsp-ii.py ./instances/100_20_{format(instance, '02d')} --{prule} --{nrule} --{irule}\n",
    "                    stop = time.time()\n",
    "                exectime = stop-start\n",
    "                print(irule, prule, nrule, instance, exectime, int(float(summy[0])))\n",
    "                exectimes.append(exectime)\n",
    "                sumz_srz[l,k] = (int(float(summy[0])))\n",
    "                k += 1\n",
    "            mexectime = np.mean(exectimes)\n",
    "            averages_srz[i,j] = mexectime\n",
    "            print(irule, '\\t', prule,'\\t', nrule, '\\t Mean Time (1): ', mexectime, '\\t Best Sum: ', summy[0])\n",
    "            i += 1\n",
    "            l += 1\n",
    "        j += 1\n",
    "        \n",
    "dev_srz = np.zeros((6,30))\n",
    "\n",
    "for i in range(np.size(sumz_srz,0)):\n",
    "    for j in range(np.size(sumz_srz,1)):\n",
    "        if which_instances == 50:\n",
    "            dev_srz[i,j] = 100*(sumz_srz[i,j]-fiftys_best[j])/(fiftys_best[j]) \n",
    "        else:\n",
    "            dev_srz[i,j] = 100*(sumz_srz[i,j]-hundreds_best[j])/(hundreds_best[j]) \n",
    "        \n",
    "mdev_srz = np.zeros(6)\n",
    "for i in range(6):\n",
    "    mdev_srz[i] = np.mean(dev_srz[i])\n",
    "    "
   ]
  },
  {
   "cell_type": "code",
   "execution_count": null,
   "metadata": {},
   "outputs": [],
   "source": [
    "averagesdev_srz = np.array([['FOR SRZ','First','Best'],['Transp',0,0],['Exhang',0,0],['Insert',0,0]])\n",
    "\n",
    "averagesdev_srz[1,1] = mdev_srz[0]\n",
    "averagesdev_srz[1,2] = mdev_srz[3]\n",
    "averagesdev_srz[2,1] = mdev_srz[1]\n",
    "averagesdev_srz[2,2] = mdev_srz[4]\n",
    "averagesdev_srz[3,1] = mdev_srz[2]\n",
    "averagesdev_srz[3,2] = mdev_srz[5]\n",
    "print('AVERAGE COMPUTATION TIMES (SECONDS): \\n',averages_srz)\n",
    "print('\\n\\nAVERAGE PERCENTAGE DEVIATION FROM BEST KNOWN SOLUTION: \\n',averagesdev_srz)"
   ]
  },
  {
   "cell_type": "markdown",
   "metadata": {},
   "source": [
    "## 1.2 With a random initial solution"
   ]
  },
  {
   "cell_type": "code",
   "execution_count": null,
   "metadata": {},
   "outputs": [],
   "source": [
    "averages_ri = np.array([['FOR RI','First','Best'],['Transp',0,0],['Exhang',0,0],['Insert',0,0]])\n",
    "sumz_ri = np.zeros((6,30))\n",
    "for irule in ['r']:\n",
    "    j = 1\n",
    "    l = 0\n",
    "    for prule in ['f','b']:\n",
    "        i = 1\n",
    "        if prule == 'f':                     ####\n",
    "            continue\n",
    "        for nrule in ['t','e','i']:\n",
    "            if nrule == 't' or nrule == 'e': ####\n",
    "                continue                     ####\n",
    "            exectimes = []\n",
    "            k = 0\n",
    "            for instance in range(1,31):\n",
    "                if which_instances == 50:\n",
    "                    start = time.time()\n",
    "                    summy = !python pfsp-ii.py ./instances/50_20_{format(instance, '02d')} --{prule} --{nrule} --{irule}\n",
    "                    stop = time.time()\n",
    "                else:\n",
    "                    start = time.time()\n",
    "                    summy = !python pfsp-ii.py ./instances/100_20_{format(instance, '02d')} --{prule} --{nrule} --{irule}\n",
    "                    stop = time.time()\n",
    "                exectime = stop-start\n",
    "                print(irule, prule, nrule, instance, exectime, int(float(summy[0])))\n",
    "                exectimes.append(exectime)\n",
    "                sumz_ri[l,k] = (int(float(summy[0])))\n",
    "                k += 1\n",
    "            mexectime = np.mean(exectimes)\n",
    "            averages_ri[i,j] = mexectime\n",
    "            print(irule, '\\t', prule,'\\t', nrule, '\\t Mean Time (1): ', mexectime, '\\t Best Sum: ', summy[0])\n",
    "            i += 1\n",
    "            l += 1\n",
    "        j += 1\n",
    "        \n",
    "dev_ri = np.zeros((6,30))# Order : FT, FE, FI, BT, BE, BI\n",
    "\n",
    "for i in range(np.size(sumz_ri,0)):\n",
    "    for j in range(np.size(sumz_ri,1)):\n",
    "        if which_instances == 50:\n",
    "            dev_srz[i,j] = 100*(sumz_srz[i,j]-fiftys_best[j])/(fiftys_best[j]) \n",
    "        else:\n",
    "            dev_srz[i,j] = 100*(sumz_srz[i,j]-hundreds_best[j])/(hundreds_best[j]) \n",
    "        \n",
    "mdev_ri = np.zeros(6)\n",
    "for i in range(6):\n",
    "    mdev_ri[i] = np.mean(dev_ri[i])\n",
    "    \n",
    "averagesdev_ri = np.array([['FOR RI','First','Best'],['Transp',0,0],['Exhang',0,0],['Insert',0,0]])\n",
    "\n",
    "averagesdev_ri[1,1] = mdev_ri[0]\n",
    "averagesdev_ri[1,2] = mdev_ri[3]\n",
    "averagesdev_ri[2,1] = mdev_ri[1]\n",
    "averagesdev_ri[2,2] = mdev_ri[4]\n",
    "averagesdev_ri[3,1] = mdev_ri[2]\n",
    "averagesdev_ri[3,2] = mdev_ri[5]\n",
    "print('AVERAGE COMPUTATION TIMES (SECONDS): \\n',averages_ri)\n",
    "print('\\n\\nAVERAGE PERCENTAGE DEVIATION FROM BEST KNOWN SOLUTION: \\n',averagesdev_ri)"
   ]
  },
  {
   "cell_type": "markdown",
   "metadata": {},
   "source": [
    "## 1.3 Statistical tests"
   ]
  },
  {
   "cell_type": "code",
   "execution_count": null,
   "metadata": {},
   "outputs": [],
   "source": [
    "# PAIRED STUDENT T-TEST, alpha=0.05\n",
    "\n",
    "# 0 : SRZ, FIRST, TRANSPOSE\n",
    "# 1 : SRZ, FIRST, EXCHANGE\n",
    "# 2 : SRZ, FIRST, INSERT\n",
    "# 3 : SRZ, BEST, TRANSPOSE\n",
    "# 4 : SRZ, BEST, EXCHANGE\n",
    "# 5 : SRZ, BEST, INSERT\n",
    "\n",
    "# 6 : RI, FIRST, TRANSPOSE\n",
    "# 7 : RI, FIRST, EXCHANGE\n",
    "# 8 : RI, FIRST, INSERT\n",
    "# 9 : RI, BEST, TRANSPOSE\n",
    "# 10 : RI, BEST, EXCHANGE\n",
    "# 11 : RI, BEST, INSERT\n",
    "\n",
    "for_tests = np.vstack((dev_srz,dev_ri))\n",
    "f = open('./sumsFound.txt','a')\n",
    "for row in for_tests:\n",
    "    for el in row:\n",
    "        f.write(str(el))\n",
    "        f.write(', ')\n",
    "        \n",
    "print('For the paired Student t-test: \\n')\n",
    "for i in range(12):\n",
    "    for j in range(i,12):\n",
    "        if i==j:\n",
    "            continue\n",
    "        res = ttest_rel(for_tests[i],for_tests[j]).pvalue\n",
    "        if res >= 0.05:\n",
    "            print(i, ' and ', j, ' are not significantly different (p-value=%f)'%res)\n",
    "\n",
    "print('\\n\\nFor the signed-rang Wilcoxon test: \\n')\n",
    "for i in range(12):\n",
    "    for j in range(i,12):\n",
    "        if i==j:\n",
    "            continue\n",
    "        res = wilcoxon(for_tests[i],for_tests[j]).pvalue\n",
    "        if res >= 0.05:\n",
    "            print(i, ' and ', j, ' are not significantly different (p-value=%f)'%res)"
   ]
  },
  {
   "cell_type": "markdown",
   "metadata": {},
   "source": [
    "# 2. Variable Neighbourhood Descent"
   ]
  },
  {
   "cell_type": "code",
   "execution_count": 1,
   "metadata": {},
   "outputs": [],
   "source": [
    "from pfspfunctions import *\n",
    "from scipy.stats import *\n",
    "import time\n",
    "\n",
    "which_instances = 100 # OR 50"
   ]
  },
  {
   "cell_type": "markdown",
   "metadata": {},
   "source": [
    "Same principle as previous exercise, the code here is for exercise 1.2. Choose the number of instances in the above cell."
   ]
  },
  {
   "cell_type": "code",
   "execution_count": 2,
   "metadata": {},
   "outputs": [
    {
     "name": "stdout",
     "output_type": "stream",
     "text": [
      "1 tei 1000.5523548126221 1827590\n",
      "2 tei 882.7122490406036 1880842\n",
      "3 tei 837.5143451690674 1717579\n",
      "4 tei 502.1760377883911 2005625\n",
      "5 tei 556.8374593257904 1592980\n",
      "6 tei 752.1793968677521 1715301\n",
      "7 tei 836.0481338500977 1805941\n",
      "8 tei 959.796923160553 1780401\n",
      "9 tei 692.9888608455658 1899357\n",
      "10 tei 865.2599761486053 1694644\n",
      "11 tei 867.6797649860382 1870284\n",
      "12 tei 723.861081123352 1736540\n",
      "13 tei 778.339631319046 1763455\n",
      "14 tei 948.9066190719604 1738676\n",
      "15 tei 1070.6144590377808 1481463\n",
      "16 tei 887.9515347480774 1906920\n",
      "17 tei 573.5124869346619 1827679\n",
      "18 tei 458.63639211654663 1874055\n",
      "19 tei 1111.4856960773468 1722993\n",
      "20 tei 691.0096681118011 1849006\n",
      "21 tei 762.0333061218262 1737539\n",
      "22 tei 508.06794714927673 1797683\n",
      "23 tei 789.4403100013733 1809825\n",
      "24 tei 913.7371399402618 1757655\n",
      "25 tei 979.5248358249664 1750760\n",
      "26 tei 725.7029469013214 1598285\n",
      "27 tei 597.3076119422913 1932795\n",
      "28 tei 848.1740899085999 1763280\n",
      "29 tei 823.5916669368744 2033167\n",
      "30 tei 867.6529569625854 1796522\n",
      "1 tie 1357.3656368255615 1833243\n",
      "2 tie 1548.3511428833008 1848724\n",
      "3 tie 987.415885925293 1736480\n",
      "4 tie 817.1662311553955 1977501\n",
      "5 tie 753.9336140155792 1584241\n",
      "6 tie 1484.2957339286804 1699091\n",
      "7 tie 1090.7304110527039 1825267\n",
      "8 tie 1003.0869669914246 1777750\n",
      "9 tie 1274.96604514122 1894328\n",
      "10 tie 1237.529951095581 1704463\n",
      "11 tie 1024.2255010604858 1862191\n",
      "12 tie 1314.1431441307068 1730243\n",
      "13 tie 1184.3532905578613 1752437\n",
      "14 tie 755.0198230743408 1759091\n",
      "15 tie 1131.2745509147644 1491305\n",
      "16 tie 1022.0505630970001 1912202\n",
      "17 tie 1582.2658619880676 1807610\n",
      "18 tie 1486.0638291835785 1859166\n",
      "19 tie 1207.1822593212128 1712926\n",
      "20 tie 1008.060720205307 1843059\n",
      "21 tie 745.7266802787781 1790149\n",
      "22 tie 1289.1948819160461 1780697\n",
      "23 tie 850.0180659294128 1809527\n",
      "24 tie 1597.7850649356842 1732108\n",
      "25 tie 1042.314894914627 1769377\n",
      "26 tie 1109.8009600639343 1587451\n",
      "27 tie 1152.5963461399078 1908952\n",
      "28 tie 1184.8891801834106 1768111\n",
      "29 tie 1388.5186910629272 2044019\n",
      "30 tie 1674.44903922081 1805966\n"
     ]
    }
   ],
   "source": [
    "sumz = np.zeros((2,30))\n",
    "timez = np.zeros((2,30))\n",
    "\n",
    "i = 0\n",
    "for method in ['tei','tie']:\n",
    "    j = 0\n",
    "    for instance in range(1,31):\n",
    "        if which_instances == 50:\n",
    "            start = time.time()\n",
    "            summy = !python pfsp-vnd.py ./instances/50_20_{format(instance, '02d')} --{method}\n",
    "            stop = time.time()\n",
    "        else:\n",
    "            start = time.time()\n",
    "            summy = !python pfsp-vnd.py ./instances/100_20_{format(instance, '02d')} --{method}\n",
    "            stop = time.time()\n",
    "        exectime = stop-start\n",
    "        print(instance, method, exectime, int(float(summy[0])))\n",
    "        timez[i,j] = exectime\n",
    "        sumz[i,j] = (int(float(summy[0])))\n",
    "        j += 1\n",
    "    i += 1"
   ]
  },
  {
   "cell_type": "code",
   "execution_count": 3,
   "metadata": {},
   "outputs": [],
   "source": [
    "best_file = open('./instances/bestSolutions.txt','r')\n",
    "best_file.readline()\n",
    "\n",
    "fiftys_best = np.zeros(30)\n",
    "hundreds_best = np.zeros(30)\n",
    "for i in range(30):\n",
    "    hundreds_best[i] = best_file.readline().split(',')[-1]\n",
    "for i in range(30):\n",
    "    fiftys_best[i] = best_file.readline().split(',')[-1]"
   ]
  },
  {
   "cell_type": "code",
   "execution_count": 4,
   "metadata": {},
   "outputs": [],
   "source": [
    "devz = np.zeros((2,30))\n",
    "\n",
    "for i in range(np.size(devz,0)):\n",
    "    for j in range(np.size(devz,1)):\n",
    "        if which_instances == 50:\n",
    "            devz[i,j] = 100*(sumz[i,j]-fiftys_best[j])/(fiftys_best[j]) \n",
    "        else:\n",
    "            devz[i,j] = 100*(sumz[i,j]-hundreds_best[j])/(hundreds_best[j]) \n",
    "            \n",
    "mean_timez = [np.mean(timez[0,:]),np.mean(timez[1,:])]\n",
    "mean_devz = [np.mean(devz[0,:]),np.mean(devz[1,:])]"
   ]
  },
  {
   "cell_type": "code",
   "execution_count": 5,
   "metadata": {},
   "outputs": [],
   "source": [
    "res = ttest_rel(devz[0,:],devz[1,:]).pvalue"
   ]
  },
  {
   "cell_type": "code",
   "execution_count": 9,
   "metadata": {},
   "outputs": [
    {
     "data": {
      "text/plain": [
       "37"
      ]
     },
     "execution_count": 9,
     "metadata": {},
     "output_type": "execute_result"
    }
   ],
   "source": [
    "out = open('./VND2.txt','w')\n",
    "\n",
    "out.write(str(res)+'\\n')\n",
    "out.write(str(mean_timez[0])+'\\t'+str(mean_timez[1])+'\\n')\n",
    "out.write(str(mean_devz[0])+'\\t'+str(mean_devz[1]))"
   ]
  },
  {
   "cell_type": "markdown",
   "metadata": {},
   "source": [
    "In the file VND2.txt, we have the p-value of the t-test in the first line, then the mean computation time for the TEI then TIE on the second line, and then the mean percentage deviation from the best known solutions for the TEI and then the TIE on the third line."
   ]
  },
  {
   "cell_type": "code",
   "execution_count": null,
   "metadata": {},
   "outputs": [],
   "source": []
  }
 ],
 "metadata": {
  "kernelspec": {
   "display_name": "Python 3",
   "language": "python",
   "name": "python3"
  },
  "language_info": {
   "codemirror_mode": {
    "name": "ipython",
    "version": 3
   },
   "file_extension": ".py",
   "mimetype": "text/x-python",
   "name": "python",
   "nbconvert_exporter": "python",
   "pygments_lexer": "ipython3",
   "version": "3.7.3"
  }
 },
 "nbformat": 4,
 "nbformat_minor": 4
}
